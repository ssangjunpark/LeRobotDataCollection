{
 "cells": [
  {
   "cell_type": "code",
   "execution_count": 2,
   "id": "b65b79fe",
   "metadata": {},
   "outputs": [],
   "source": [
    "import pandas as pd\n",
    "import os"
   ]
  },
  {
   "cell_type": "code",
   "execution_count": 3,
   "id": "0d9784c9",
   "metadata": {},
   "outputs": [],
   "source": [
    "loaded_df = pd.read_parquet(os.environ[\"HOME\"] + '/.cache/huggingface/lerobot/lerobot/pusht/data/chunk-000/episode_000000.parquet')"
   ]
  },
  {
   "cell_type": "code",
   "execution_count": 4,
   "id": "044d3dba",
   "metadata": {},
   "outputs": [
    {
     "name": "stdout",
     "output_type": "stream",
     "text": [
      "          observation.state          action  episode_index  frame_index  \\\n",
      "0             [222.0, 97.0]   [233.0, 71.0]              0            0   \n",
      "1      [225.2524, 89.31253]   [229.0, 83.0]              0            1   \n",
      "2     [227.59233, 84.53438]   [229.0, 86.0]              0            2   \n",
      "3     [228.42017, 84.27986]   [230.0, 86.0]              0            3   \n",
      "4      [229.04222, 84.9571]   [239.0, 89.0]              0            4   \n",
      "..                      ...             ...            ...          ...   \n",
      "156  [151.88667, 363.90482]  [156.0, 364.0]              0          156   \n",
      "157  [153.53424, 363.95276]  [157.0, 363.0]              0          157   \n",
      "158  [155.01678, 363.68158]  [159.0, 360.0]              0          158   \n",
      "159  [156.57964, 362.48627]  [161.0, 358.0]              0          159   \n",
      "160   [158.33017, 360.7482]  [164.0, 355.0]              0          160   \n",
      "\n",
      "     timestamp  next.reward  next.done  next.success  index  task_index  \n",
      "0          0.0     0.190297      False         False      0           0  \n",
      "1          0.1     0.190297      False         False      1           0  \n",
      "2          0.2     0.190297      False         False      2           0  \n",
      "3          0.3     0.190297      False         False      3           0  \n",
      "4          0.4     0.190297      False         False      4           0  \n",
      "..         ...          ...        ...           ...    ...         ...  \n",
      "156       15.6     0.757998      False         False    156           0  \n",
      "157       15.7     0.783961      False         False    157           0  \n",
      "158       15.8     0.822613      False         False    158           0  \n",
      "159       15.9     0.873257       True         False    159           0  \n",
      "160       16.0     0.873257       True         False    160           0  \n",
      "\n",
      "[161 rows x 10 columns]\n"
     ]
    }
   ],
   "source": [
    "print(loaded_df)"
   ]
  },
  {
   "cell_type": "code",
   "execution_count": null,
   "id": "1510b1db",
   "metadata": {},
   "outputs": [],
   "source": []
  }
 ],
 "metadata": {
  "kernelspec": {
   "display_name": "env_isaaclab",
   "language": "python",
   "name": "python3"
  },
  "language_info": {
   "codemirror_mode": {
    "name": "ipython",
    "version": 3
   },
   "file_extension": ".py",
   "mimetype": "text/x-python",
   "name": "python",
   "nbconvert_exporter": "python",
   "pygments_lexer": "ipython3",
   "version": "3.10.13"
  }
 },
 "nbformat": 4,
 "nbformat_minor": 5
}
