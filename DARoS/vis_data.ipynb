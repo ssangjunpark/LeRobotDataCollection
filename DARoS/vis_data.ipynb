{
 "cells": [
  {
   "cell_type": "code",
   "execution_count": 7,
   "id": "b65b79fe",
   "metadata": {},
   "outputs": [
    {
     "data": {
      "text/plain": [
       "'/home/isaac/Documents/Github/IsaacLab/LeRobotData'"
      ]
     },
     "execution_count": 7,
     "metadata": {},
     "output_type": "execute_result"
    }
   ],
   "source": [
    "import pandas as pd\n",
    "import os\n",
    "\n",
    "os.getcwd()"
   ]
  },
  {
   "cell_type": "code",
   "execution_count": 18,
   "id": "0d9784c9",
   "metadata": {},
   "outputs": [],
   "source": [
    "loaded_df = pd.read_parquet(\"data/chunk_000/episode_000000.parquet\")"
   ]
  },
  {
   "cell_type": "code",
   "execution_count": 19,
   "id": "044d3dba",
   "metadata": {},
   "outputs": [
    {
     "name": "stdout",
     "output_type": "stream",
     "text": [
      "                                     observation.state  \\\n",
      "0    [0.0090001, 0.028725408, -0.041625142, -0.0167...   \n",
      "1    [0.009319536, 0.03381944, -0.048239555, -0.017...   \n",
      "2    [0.008206622, 0.03509994, -0.04475587, 0.00103...   \n",
      "3    [0.007752161, 0.04360195, -0.041952, 0.0145542...   \n",
      "4    [0.0050038532, 0.041635986, -0.020604659, 0.03...   \n",
      "..                                                 ...   \n",
      "245  [-0.0083220545, 0.3144535, 0.009010538, -0.045...   \n",
      "246  [-0.016243877, 0.28220344, 0.04667092, -0.0171...   \n",
      "247  [-0.008322014, 0.31445283, 0.009010494, -0.045...   \n",
      "248  [-0.016243855, 0.28220278, 0.046670847, -0.017...   \n",
      "249  [-0.0083219865, 0.3144522, 0.009010433, -0.045...   \n",
      "\n",
      "                                                action  timestamp  \\\n",
      "0    [0.057740044, 0.20230174, -0.17460623, 0.04545...          0   \n",
      "1    [-0.003169164, 0.07977109, 0.0018606411, 0.351...          0   \n",
      "2    [0.013984945, 0.1935101, -0.15386099, 0.367733...          0   \n",
      "3    [-0.05837609, -0.03928408, 0.3120746, 0.537174...          0   \n",
      "4    [0.028792072, 0.39584857, -0.23246324, 0.22881...          0   \n",
      "..                                                 ...        ...   \n",
      "245  [-0.20491412, -0.29487708, 0.8457992, 0.495983...          0   \n",
      "246  [0.1505655, 1.1386414, -1.2097329, -0.24671419...          0   \n",
      "247  [-0.20491424, -0.29487732, 0.8457982, 0.495983...          0   \n",
      "248  [0.15056568, 1.1386406, -1.2097325, -0.2467129...          0   \n",
      "249  [-0.20491457, -0.2948785, 0.8457984, 0.4959838...          0   \n",
      "\n",
      "     episode_index  frame_index  index  next.reward  next.done  task_index  \n",
      "0                0            0      0    -0.580002      False           0  \n",
      "1                0            1      1    -0.580005      False           0  \n",
      "2                0            2      2    -0.580004      False           0  \n",
      "3                0            3      3    -0.580011      False           0  \n",
      "4                0            4      4    -0.580014      False           0  \n",
      "..             ...          ...    ...          ...        ...         ...  \n",
      "245              0          245    245    -0.580142      False           0  \n",
      "246              0          246    246    -0.580141      False           0  \n",
      "247              0          247    247    -0.580142      False           0  \n",
      "248              0          248    248    -0.580141      False           0  \n",
      "249              0          249    249    -0.580142       True           0  \n",
      "\n",
      "[250 rows x 9 columns]\n"
     ]
    }
   ],
   "source": [
    "print(loaded_df)"
   ]
  },
  {
   "cell_type": "code",
   "execution_count": null,
   "id": "1510b1db",
   "metadata": {},
   "outputs": [],
   "source": []
  }
 ],
 "metadata": {
  "kernelspec": {
   "display_name": "env_isaaclab2",
   "language": "python",
   "name": "python3"
  },
  "language_info": {
   "codemirror_mode": {
    "name": "ipython",
    "version": 3
   },
   "file_extension": ".py",
   "mimetype": "text/x-python",
   "name": "python",
   "nbconvert_exporter": "python",
   "pygments_lexer": "ipython3",
   "version": "3.10.18"
  }
 },
 "nbformat": 4,
 "nbformat_minor": 5
}
